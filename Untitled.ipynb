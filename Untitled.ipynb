{
 "cells": [
  {
   "cell_type": "code",
   "execution_count": 12,
   "metadata": {},
   "outputs": [],
   "source": [
    "# forma basica \n",
    "giro = \"carrera 14\"\n",
    "if giro == \"carrrera 9\":\n",
    "    print(\"gire en la \", giro)\n",
    "if giro == \"carrrera 10\":\n",
    "    print(\"gire en la \", giro)\n",
    "if giro == \"carrrera 11\":\n",
    "    print(\"gire en la \", giro)\n",
    "if giro == \"carrrera 12\":\n",
    "    print(\"gire en la \", giro)\n",
    "if giro == \"carrrera 13\":\n",
    "    print(\"gire en la \", giro)\n",
    "if giro == \"carrrera 14\":\n",
    "    print(\"gire en la \", giro)  \n",
    "if giro == \"carrrera 15\":\n",
    "    print(\"gire en la \", giro)"
   ]
  },
  {
   "cell_type": "code",
   "execution_count": 13,
   "metadata": {},
   "outputs": [],
   "source": [
    "## ingrese la direccion por teclado y creaqcion de la funcion\n",
    "def ejercicio3(giro:str):\n",
    "    giro = input(\"ingrese la direccion: \") \n",
    "    \n",
    "    if giro == \"carrrera 9\":\n",
    "        print(\"gire en la \", giro)\n",
    "    if giro == \"carrrera 10\":\n",
    "        print(\"gire en la \", giro)\n",
    "    if giro == \"carrrera 11\":\n",
    "        print(\"gire en la \", giro)\n",
    "    if giro == \"carrrera 12\":\n",
    "        print(\"gire en la \", giro)\n",
    "    if giro == \"carrrera 13\":\n",
    "        print(\"gire en la \", giro)\n",
    "    if giro == \"carrrera 14\":\n",
    "        print(\"gire en la \", giro)  \n",
    "    if giro == \"carrrera 15\":\n",
    "        print(\"gire en la \", giro)\n"
   ]
  },
  {
   "cell_type": "code",
   "execution_count": 47,
   "metadata": {},
   "outputs": [
    {
     "ename": "SyntaxError",
     "evalue": "invalid syntax (<ipython-input-47-7857e5c002e6>, line 14)",
     "output_type": "error",
     "traceback": [
      "\u001b[1;36m  File \u001b[1;32m\"<ipython-input-47-7857e5c002e6>\"\u001b[1;36m, line \u001b[1;32m14\u001b[0m\n\u001b[1;33m    else: B!=0:\u001b[0m\n\u001b[1;37m               ^\u001b[0m\n\u001b[1;31mSyntaxError\u001b[0m\u001b[1;31m:\u001b[0m invalid syntax\n"
     ]
    }
   ],
   "source": [
    "def calculadora (A:float,B:float,OPC:str): \n",
    "\n",
    "    if OPC==\"+\":\n",
    "        C=A+B\n",
    "        print (C)\n",
    "    if OPC==\"-\":\n",
    "        C=A-B\n",
    "        print (C)\n",
    "    if OPC==\"*\":\n",
    "        C=A*B\n",
    "        print (C)\n",
    "    if OPC==\"/\":\n",
    "        B!=0\n",
    "        C=A/B\n",
    "        print(C)\n",
    "    else:\n",
    "        print(\"error\")\n",
    "        \n",
    "            "
   ]
  },
  {
   "cell_type": "code",
   "execution_count": 69,
   "metadata": {},
   "outputs": [
    {
     "name": "stdout",
     "output_type": "stream",
     "text": [
      "1.0\n"
     ]
    }
   ],
   "source": [
    "calculadora(5,5,\"/\")\n",
    "\n",
    "\n",
    "\n",
    "\n",
    "\n",
    "\n",
    "\n",
    "\n",
    "        \n",
    "\n",
    "\n",
    "\n"
   ]
  },
  {
   "cell_type": "code",
   "execution_count": 52,
   "metadata": {},
   "outputs": [],
   "source": [
    "##tabla de amortizacion \n",
    "def amortizar(d,t,n):\n",
    "    print(\"deuda: \",d)\n",
    "    print(\"tasa: \",t)\n",
    "    print(\"periodos: \",n)"
   ]
  },
  {
   "cell_type": "code",
   "execution_count": 53,
   "metadata": {},
   "outputs": [
    {
     "name": "stdout",
     "output_type": "stream",
     "text": [
      "deuda:  5000000\n",
      "tasa:  11.13\n",
      "periodos:  180\n"
     ]
    }
   ],
   "source": [
    "amortizar(5000000,11.13,180)\n"
   ]
  },
  {
   "cell_type": "code",
   "execution_count": 67,
   "metadata": {},
   "outputs": [],
   "source": [
    "def amortizar(**kwarg):\n",
    "    print(kwarg)\n",
    "    print(\"deuda: \", kwarg[\"d\"])\n",
    "    print(\"tasa: \", kwarg[\"t\"])\n",
    "    print(\"periodos: \", kwarg[\"n\"])\n",
    "    \n",
    "    d = float(kwarg[\"d\"])\n",
    "    t = float(kwarg[\"t\"])\n",
    "    n = int(kwarg[\"n\"])\n",
    "    \n",
    "    r = (d * t) / (1-pow((1+t),-n)) ## cuota de amortizacion\n",
    "    k = 0\n",
    "    tabla = []\n",
    "    while k!= n:\n",
    "        renglon = []\n",
    "        \n",
    "        i = d*t\n",
    "        a = r-i\n",
    "        d = d-a\n",
    "        k += 1 \n",
    "        \n",
    "        renglon.append(i)\n",
    "        renglon.append(a)\n",
    "        renglon.append(int(d))\n",
    "        renglon.append(k)\n",
    "        tabla.append(renglon)\n",
    "        \n",
    "    for i in tabla:\n",
    "        print(i)\n"
   ]
  },
  {
   "cell_type": "code",
   "execution_count": 68,
   "metadata": {
    "scrolled": true
   },
   "outputs": [
    {
     "name": "stdout",
     "output_type": "stream",
     "text": [
      "{'d': 5000000, 't': 0.11, 'n': 10}\n",
      "deuda:  5000000\n",
      "tasa:  0.11\n",
      "periodos:  10\n",
      "[550000.0, 299007.1354874512, 4700992, 1]\n",
      "[517109.2150963804, 331897.92039107083, 4369094, 2]\n",
      "[480600.4438533626, 368406.69163408864, 4000688, 3]\n",
      "[440075.7077736128, 408931.4277138384, 3591756, 4]\n",
      "[395093.2507250906, 453913.8847623606, 3137842, 5]\n",
      "[345162.72340123093, 503844.4120862203, 2633998, 6]\n",
      "[289739.8380717467, 559267.2974157045, 2074731, 7]\n",
      "[228220.43535601918, 620786.700131432, 1453944, 8]\n",
      "[159933.89834156164, 689073.2371458896, 764871, 9]\n",
      "[84135.8422555138, 764871.2932319375, 0, 10]\n"
     ]
    }
   ],
   "source": [
    "amortizar(d = 5000000, t = 0.11, n = 10)"
   ]
  },
  {
   "cell_type": "markdown",
   "metadata": {},
   "source": [
    "## buscador de caracter\n",
    "\n",
    "\n"
   ]
  },
  {
   "cell_type": "code",
   "execution_count": 70,
   "metadata": {},
   "outputs": [],
   "source": [
    "texto =\"clase de python x numero 2\" "
   ]
  },
  {
   "cell_type": "code",
   "execution_count": null,
   "metadata": {},
   "outputs": [],
   "source": []
  }
 ],
 "metadata": {
  "kernelspec": {
   "display_name": "Python 3",
   "language": "python",
   "name": "python3"
  },
  "language_info": {
   "codemirror_mode": {
    "name": "ipython",
    "version": 3
   },
   "file_extension": ".py",
   "mimetype": "text/x-python",
   "name": "python",
   "nbconvert_exporter": "python",
   "pygments_lexer": "ipython3",
   "version": "3.8.5"
  }
 },
 "nbformat": 4,
 "nbformat_minor": 4
}
